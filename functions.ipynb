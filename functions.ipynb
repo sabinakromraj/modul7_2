{
 "cells": [
  {
   "cell_type": "markdown",
   "id": "1624c2eb",
   "metadata": {},
   "source": [
    "# Tworzenie funkcji rozpoczynamy od komendy def., potem piszemy nazwę funkcji z nawiasami i dwukropek (:), a następnie jej ciało w kolejnych liniach."
   ]
  },
  {
   "cell_type": "code",
   "execution_count": 2,
   "id": "eca771fd",
   "metadata": {},
   "outputs": [],
   "source": [
    "def demo_function():\n",
    "    print(\"I am inside of a function!\")"
   ]
  },
  {
   "cell_type": "markdown",
   "id": "465bf260",
   "metadata": {},
   "source": [
    "# Funkcja jest blokiem kodu, który wykonuje się wyłącznie wtedy, gdy jest wywołany poprzez użycie nazwy i nawiasów okrągłych."
   ]
  },
  {
   "cell_type": "code",
   "execution_count": 4,
   "id": "0e8cb027",
   "metadata": {
    "scrolled": false
   },
   "outputs": [
    {
     "name": "stdout",
     "output_type": "stream",
     "text": [
      "I am inside of a function!\n"
     ]
    }
   ],
   "source": [
    "demo_function()"
   ]
  }
 ],
 "metadata": {
  "kernelspec": {
   "display_name": "Python 3 (ipykernel)",
   "language": "python",
   "name": "python3"
  },
  "language_info": {
   "codemirror_mode": {
    "name": "ipython",
    "version": 3
   },
   "file_extension": ".py",
   "mimetype": "text/x-python",
   "name": "python",
   "nbconvert_exporter": "python",
   "pygments_lexer": "ipython3",
   "version": "3.11.4"
  }
 },
 "nbformat": 4,
 "nbformat_minor": 5
}
